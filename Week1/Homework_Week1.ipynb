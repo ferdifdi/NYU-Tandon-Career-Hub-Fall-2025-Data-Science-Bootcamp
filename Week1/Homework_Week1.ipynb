{
 "cells": [
  {
   "cell_type": "markdown",
   "id": "3e731483",
   "metadata": {},
   "source": [
    "## Take home exercises\n",
    "\n",
    "1. Write a program that takes a word as an input and print the number of vowels in the word.\n",
    "2. Iterate through the following list of animals and print each one in all caps.\n",
    "\n",
    "  animals=['tiger', 'elephant', 'monkey', 'zebra', 'panther']\n",
    "\n",
    "3. Write a program that iterates from 1 to 20, printing each number and whether it's odd or even.\n",
    "4. Write a program to check if a string is a palindrome or not.\n",
    "5. Write a function *sum_of_integers(a, b)* that takes two integers as input from the user and returns their sum. (optional)\n"
   ]
  },
  {
   "cell_type": "code",
   "execution_count": 10,
   "id": "6a956488",
   "metadata": {},
   "outputs": [],
   "source": [
    "#1 Write a program that takes a word as an input and print the number of vowels in the word.\n",
    "def count_vowels(words):\n",
    "    vowels = \"aeiouAEIOU\"\n",
    "    count = 0\n",
    "    for char in words:\n",
    "        if char in vowels:\n",
    "            count += 1\n",
    "    print(f\"Number of vowels in '{words}': {count}\")"
   ]
  },
  {
   "cell_type": "code",
   "execution_count": 11,
   "id": "4b3e60f6",
   "metadata": {},
   "outputs": [
    {
     "name": "stdout",
     "output_type": "stream",
     "text": [
      "Number of vowels in 'I Love U': 4\n"
     ]
    }
   ],
   "source": [
    "count_vowels(\"I Love U\")"
   ]
  },
  {
   "cell_type": "code",
   "execution_count": null,
   "id": "f351db8b",
   "metadata": {},
   "outputs": [],
   "source": [
    "#2 Iterate through the following list of animals and print each one in all caps.\n",
    "def print_animals_uppercase(animals):\n",
    "    for animal in animals:\n",
    "        print(animal.upper())"
   ]
  },
  {
   "cell_type": "code",
   "execution_count": 6,
   "id": "848adc89",
   "metadata": {},
   "outputs": [
    {
     "name": "stdout",
     "output_type": "stream",
     "text": [
      "TIGER\n",
      "ELEPHANT\n",
      "MONKEY\n",
      "ZEBRA\n",
      "PANTHER\n"
     ]
    }
   ],
   "source": [
    "animals = ['tiger', 'elephant', 'monkey', 'zebra', 'panther']\n",
    "print_animals_uppercase(animals)"
   ]
  },
  {
   "cell_type": "code",
   "execution_count": 7,
   "id": "38a7a081",
   "metadata": {},
   "outputs": [],
   "source": [
    "#3 Write a program that iterates from 1 to 20, printing each number and whether it's odd or even.\n",
    "def print_odd_even_1_to_20():\n",
    "    for i in range(1, 21):\n",
    "        if i % 2 == 0:\n",
    "            print(f\"{i} is even\")\n",
    "        else:\n",
    "            print(f\"{i} is odd\")"
   ]
  },
  {
   "cell_type": "code",
   "execution_count": 8,
   "id": "cdcc0797",
   "metadata": {},
   "outputs": [
    {
     "name": "stdout",
     "output_type": "stream",
     "text": [
      "1 is odd\n",
      "2 is even\n",
      "3 is odd\n",
      "4 is even\n",
      "5 is odd\n",
      "6 is even\n",
      "7 is odd\n",
      "8 is even\n",
      "9 is odd\n",
      "10 is even\n",
      "11 is odd\n",
      "12 is even\n",
      "13 is odd\n",
      "14 is even\n",
      "15 is odd\n",
      "16 is even\n",
      "17 is odd\n",
      "18 is even\n",
      "19 is odd\n",
      "20 is even\n"
     ]
    }
   ],
   "source": [
    "print_odd_even_1_to_20()"
   ]
  },
  {
   "cell_type": "code",
   "execution_count": 16,
   "id": "42caaab9",
   "metadata": {},
   "outputs": [],
   "source": [
    "#4 Write a program to check if a string is a palindrome or not\n",
    "def check_palindrome(words):\n",
    "    cleaned = \"\"\n",
    "    for char in words:\n",
    "        if char.isalnum():  \n",
    "            cleaned += char.lower()\n",
    "    if cleaned == cleaned[::-1]:\n",
    "        print(f\"'{words}' is a palindrome.\")\n",
    "    else:\n",
    "        print(f\"'{words}' is not a palindrome.\")"
   ]
  },
  {
   "cell_type": "code",
   "execution_count": 17,
   "id": "97e71841",
   "metadata": {},
   "outputs": [
    {
     "name": "stdout",
     "output_type": "stream",
     "text": [
      "'Evil is a name of a foeman, as I live.' is a palindrome.\n",
      "'I Love U' is not a palindrome.\n"
     ]
    }
   ],
   "source": [
    "check_palindrome(\"Evil is a name of a foeman, as I live.\")\n",
    "check_palindrome(\"I Love U\")"
   ]
  },
  {
   "cell_type": "code",
   "execution_count": 22,
   "id": "6f36cd4e",
   "metadata": {},
   "outputs": [],
   "source": [
    "#5 Write a function *sum_of_integers(a, b)* that takes two integers as input from the user and returns their sum. (optional)\n",
    "def sum_of_integers():\n",
    "    a = int(input(\"Enter first integer: \"))\n",
    "    print(f\"First integer: {a}\")\n",
    "    b = int(input(\"Enter second integer: \"))\n",
    "    print(f\"Second integer: {b}\")\n",
    "    print(f\"Sum: {a + b}\")"
   ]
  },
  {
   "cell_type": "code",
   "execution_count": 23,
   "id": "c21bd270",
   "metadata": {},
   "outputs": [
    {
     "name": "stdout",
     "output_type": "stream",
     "text": [
      "First integer: 4\n",
      "Second integer: 8\n",
      "Sum: 12\n"
     ]
    }
   ],
   "source": [
    "sum_of_integers()"
   ]
  },
  {
   "cell_type": "markdown",
   "id": "418fa41b",
   "metadata": {},
   "source": [
    "### Additional Challenge - Books data challenge"
   ]
  },
  {
   "cell_type": "code",
   "execution_count": 24,
   "id": "80e48f2a",
   "metadata": {},
   "outputs": [],
   "source": [
    "books = [\n",
    "    {\n",
    "        \"title\": \"The Great Gatsby\",\n",
    "        \"author\": \"F. Scott Fitzgerald\",\n",
    "        \"genre\": \"Fiction\",\n",
    "        \"rating\": 4.2\n",
    "    },\n",
    "    {\n",
    "        \"title\": \"To Kill a Mockingbird\",\n",
    "        \"author\": \"Harper Lee\",\n",
    "        \"genre\": \"Classic\",\n",
    "        \"rating\": 4.5\n",
    "    },\n",
    "    {\n",
    "        \"title\": \"1984\",\n",
    "        \"author\": \"George Orwell\",\n",
    "        \"genre\": \"Dystopian\",\n",
    "        \"rating\": 4.8\n",
    "    },\n",
    "    {\n",
    "        \"title\": \"Pride and Prejudice\",\n",
    "        \"author\": \"Jane Austen\",\n",
    "        \"genre\": \"Romance\",\n",
    "        \"rating\": 4.7\n",
    "    },\n",
    "    {\n",
    "        \"title\": \"Harry Potter and the Sorcerer's Stone\",\n",
    "        \"author\": \"J.K. Rowling\",\n",
    "        \"genre\": \"Fantasy\",\n",
    "        \"rating\": 4.9\n",
    "    },\n",
    "    {\n",
    "        \"title\": \"The Catcher in the Rye\",\n",
    "        \"author\": \"J.D. Salinger\",\n",
    "        \"genre\": \"Coming-of-age\",\n",
    "        \"rating\": 4.1\n",
    "    }\n",
    "]"
   ]
  },
  {
   "cell_type": "markdown",
   "id": "46f2ad91",
   "metadata": {},
   "source": [
    "1. Checking Book Ratings\n",
    "\n",
    "    Write a function `check_rating(book)` that takes a book dictionary and returns True if the rating is greater than 4.5, and False otherwise. Additionally, modify the function to return 'low' if the rating is less than or equal to 4.0, 'medium' if it's greater than 4.0 but less than or equal to 4.5, and 'high' if it's greater than 4.5.\n",
    "\n",
    "2. Average Rating by Genre\n",
    "\n",
    "    Write a function `average_rating_by_genre(books, genre)` that accepts the list of books and a genre, and returns the average rating for that genre. If the genre does not exist in the list, return an appropriate message.\n",
    "\n",
    "3. Books by Author\n",
    "\n",
    "    Write a function `books_by_author(books, author)` that accepts the book list and an author's name, and returns a list of all the books written by that author. If the author does not exist, raise a custom error."
   ]
  },
  {
   "cell_type": "code",
   "execution_count": 25,
   "id": "ba4b9d0a",
   "metadata": {},
   "outputs": [],
   "source": [
    "def check_rating(book):\n",
    "    rating = book.get(\"rating\", 0)\n",
    "    \n",
    "    is_high = rating > 4.5\n",
    "    \n",
    "    if rating <= 4.0:\n",
    "        category = 'low'\n",
    "    elif rating <= 4.5:\n",
    "        category = 'medium'\n",
    "    else:\n",
    "        category = 'high'\n",
    "    \n",
    "    return is_high, category\n"
   ]
  },
  {
   "cell_type": "code",
   "execution_count": 26,
   "id": "76b4fc9c",
   "metadata": {},
   "outputs": [
    {
     "name": "stdout",
     "output_type": "stream",
     "text": [
      "The Great Gatsby -> High rating? False, Category: medium\n",
      "To Kill a Mockingbird -> High rating? False, Category: medium\n",
      "1984 -> High rating? True, Category: high\n",
      "Pride and Prejudice -> High rating? True, Category: high\n",
      "Harry Potter and the Sorcerer's Stone -> High rating? True, Category: high\n",
      "The Catcher in the Rye -> High rating? False, Category: medium\n"
     ]
    }
   ],
   "source": [
    "for book in books:\n",
    "    is_high, category = check_rating(book)\n",
    "    print(f\"{book['title']} -> High rating? {is_high}, Category: {category}\")"
   ]
  },
  {
   "cell_type": "code",
   "execution_count": 27,
   "id": "7123bef1",
   "metadata": {},
   "outputs": [],
   "source": [
    "def average_rating_by_genre(books, genre):\n",
    "\n",
    "    ratings = []\n",
    "    for book in books:\n",
    "        if book[\"genre\"].lower() == genre.lower():\n",
    "            ratings.append(book[\"rating\"])\n",
    "    \n",
    "    if not ratings:\n",
    "        return f\"No books found in genre '{genre}'.\"\n",
    "    \n",
    "    avg_rating = sum(ratings) / len(ratings)\n",
    "    return round(avg_rating, 2)\n",
    "\n"
   ]
  },
  {
   "cell_type": "code",
   "execution_count": 28,
   "id": "2fe09fab",
   "metadata": {},
   "outputs": [
    {
     "name": "stdout",
     "output_type": "stream",
     "text": [
      "Average rating for Fantasy: 4.9\n",
      "Average rating for Sci-Fi: No books found in genre 'Sci-Fi'.\n"
     ]
    }
   ],
   "source": [
    "print(\"Average rating for Fantasy:\", average_rating_by_genre(books, \"Fantasy\"))\n",
    "print(\"Average rating for Sci-Fi:\", average_rating_by_genre(books, \"Sci-Fi\"))"
   ]
  },
  {
   "cell_type": "code",
   "execution_count": 29,
   "id": "37d767ed",
   "metadata": {},
   "outputs": [],
   "source": [
    "class AuthorNotFoundError(Exception):\n",
    "    pass\n",
    "\n",
    "def books_by_author(books, author):\n",
    "    \n",
    "    author_books = []\n",
    "\n",
    "    for book in books:\n",
    "        if book[\"author\"].lower() == author.lower():\n",
    "            author_books.append(book[\"title\"])\n",
    "    \n",
    "    if not author_books:\n",
    "        raise AuthorNotFoundError(f\"No books found by author '{author}'.\")\n",
    "    \n",
    "    return author_books\n"
   ]
  },
  {
   "cell_type": "code",
   "execution_count": 30,
   "id": "79a4d073",
   "metadata": {},
   "outputs": [
    {
     "name": "stdout",
     "output_type": "stream",
     "text": [
      "Books by George Orwell: ['1984']\n"
     ]
    },
    {
     "ename": "AuthorNotFoundError",
     "evalue": "No books found by author 'Unknown Author'.",
     "output_type": "error",
     "traceback": [
      "\u001b[1;31m---------------------------------------------------------------------------\u001b[0m",
      "\u001b[1;31mAuthorNotFoundError\u001b[0m                       Traceback (most recent call last)",
      "Cell \u001b[1;32mIn[30], line 4\u001b[0m\n\u001b[0;32m      1\u001b[0m george_books \u001b[38;5;241m=\u001b[39m books_by_author(books, \u001b[38;5;124m\"\u001b[39m\u001b[38;5;124mGeorge Orwell\u001b[39m\u001b[38;5;124m\"\u001b[39m)\n\u001b[0;32m      2\u001b[0m \u001b[38;5;28mprint\u001b[39m(\u001b[38;5;124m\"\u001b[39m\u001b[38;5;124mBooks by George Orwell:\u001b[39m\u001b[38;5;124m\"\u001b[39m, george_books)\n\u001b[1;32m----> 4\u001b[0m unknown_books \u001b[38;5;241m=\u001b[39m books_by_author(books, \u001b[38;5;124m\"\u001b[39m\u001b[38;5;124mUnknown Author\u001b[39m\u001b[38;5;124m\"\u001b[39m)\n\u001b[0;32m      5\u001b[0m \u001b[38;5;28mprint\u001b[39m(\u001b[38;5;124m\"\u001b[39m\u001b[38;5;124mBooks by Unknown Author:\u001b[39m\u001b[38;5;124m\"\u001b[39m, unknown_books)\n",
      "Cell \u001b[1;32mIn[29], line 13\u001b[0m, in \u001b[0;36mbooks_by_author\u001b[1;34m(books, author)\u001b[0m\n\u001b[0;32m     10\u001b[0m         author_books\u001b[38;5;241m.\u001b[39mappend(book[\u001b[38;5;124m\"\u001b[39m\u001b[38;5;124mtitle\u001b[39m\u001b[38;5;124m\"\u001b[39m])\n\u001b[0;32m     12\u001b[0m \u001b[38;5;28;01mif\u001b[39;00m \u001b[38;5;129;01mnot\u001b[39;00m author_books:\n\u001b[1;32m---> 13\u001b[0m     \u001b[38;5;28;01mraise\u001b[39;00m AuthorNotFoundError(\u001b[38;5;124mf\u001b[39m\u001b[38;5;124m\"\u001b[39m\u001b[38;5;124mNo books found by author \u001b[39m\u001b[38;5;124m'\u001b[39m\u001b[38;5;132;01m{\u001b[39;00mauthor\u001b[38;5;132;01m}\u001b[39;00m\u001b[38;5;124m'\u001b[39m\u001b[38;5;124m.\u001b[39m\u001b[38;5;124m\"\u001b[39m)\n\u001b[0;32m     15\u001b[0m \u001b[38;5;28;01mreturn\u001b[39;00m author_books\n",
      "\u001b[1;31mAuthorNotFoundError\u001b[0m: No books found by author 'Unknown Author'."
     ]
    }
   ],
   "source": [
    "george_books = books_by_author(books, \"George Orwell\")\n",
    "print(\"Books by George Orwell:\", george_books)\n",
    "\n",
    "unknown_books = books_by_author(books, \"Unknown Author\")\n",
    "print(\"Books by Unknown Author:\", unknown_books)"
   ]
  },
  {
   "cell_type": "code",
   "execution_count": null,
   "id": "95d39c54",
   "metadata": {},
   "outputs": [],
   "source": []
  }
 ],
 "metadata": {
  "kernelspec": {
   "display_name": "base",
   "language": "python",
   "name": "python3"
  },
  "language_info": {
   "codemirror_mode": {
    "name": "ipython",
    "version": 3
   },
   "file_extension": ".py",
   "mimetype": "text/x-python",
   "name": "python",
   "nbconvert_exporter": "python",
   "pygments_lexer": "ipython3",
   "version": "3.11.5"
  }
 },
 "nbformat": 4,
 "nbformat_minor": 5
}
